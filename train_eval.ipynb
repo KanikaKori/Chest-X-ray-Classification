{
 "cells": [
  {
   "cell_type": "code",
   "execution_count": 3,
   "id": "77b2cf6f-00bc-4acc-b2ee-984e612e94bb",
   "metadata": {},
   "outputs": [
    {
     "name": "stdout",
     "output_type": "stream",
     "text": [
      "['train_images', 'train_labels', 'val_images', 'val_labels', 'test_images', 'test_labels']\n"
     ]
    }
   ],
   "source": [
    "import numpy as np\n",
    "\n",
    "data = np.load(\"pneumoniamnist.npz\")\n",
    "print(data.files)\n"
   ]
  },
  {
   "cell_type": "code",
   "execution_count": 8,
   "id": "f6221d95-8e24-488d-996e-f414684f9c38",
   "metadata": {
    "scrolled": true
   },
   "outputs": [
    {
     "name": "stderr",
     "output_type": "stream",
     "text": [
      "C:\\Users\\HP\\AppData\\Local\\Temp\\ipykernel_14288\\1652569363.py:23: DeprecationWarning: Conversion of an array with ndim > 0 to a scalar is deprecated, and will error in future. Ensure you extract a single element from your array before performing this operation. (Deprecated NumPy 1.25.)\n",
      "  label_name = class_map[int(label)]\n"
     ]
    },
    {
     "name": "stdout",
     "output_type": "stream",
     "text": [
      "Dataset organized.\n"
     ]
    }
   ],
   "source": [
    "import numpy as np\n",
    "from PIL import Image\n",
    "import os\n",
    "\n",
    "# Load the data\n",
    "data = np.load(\"pneumoniamnist.npz\")\n",
    "\n",
    "# Class mapping\n",
    "class_map = {\n",
    "    0: \"normal\",\n",
    "    1: \"abnormal\"\n",
    "}\n",
    "\n",
    "# Where to save extracted images\n",
    "base_dir = \"D:/PC FILES/image_dataset\"\n",
    "\n",
    "# Loop over train, val, test\n",
    "for split in [\"train\", \"val\", \"test\"]:\n",
    "    images = data[f\"{split}_images\"]\n",
    "    labels = data[f\"{split}_labels\"]\n",
    "    \n",
    "    for idx, (img_arr, label) in enumerate(zip(images, labels)):\n",
    "        label_name = class_map[int(label)]\n",
    "\n",
    "        save_dir = os.path.join(base_dir, split, label_name)\n",
    "        os.makedirs(save_dir, exist_ok=True)\n",
    "        \n",
    "        # Convert to PIL image, scale 0–255 and convert to RGB\n",
    "        img = Image.fromarray((img_arr * 255).astype(np.uint8)).convert(\"RGB\")\n",
    "        \n",
    "        # Save image\n",
    "        img.save(os.path.join(save_dir, f\"{split}_{idx}.png\"))\n",
    "\n",
    "print(\"Dataset organized.\")\n"
   ]
  },
  {
   "cell_type": "code",
   "execution_count": 12,
   "id": "17511f54-f820-44ee-a149-397f25ef4f63",
   "metadata": {},
   "outputs": [],
   "source": [
    "from PIL import Image\n",
    "import os\n",
    "\n",
    "def check_images(root_dir):\n",
    "    for subdir, _, files in os.walk(root_dir):\n",
    "        for file in files:\n",
    "            try:\n",
    "                img_path = os.path.join(subdir, file)\n",
    "                with Image.open(img_path) as img:\n",
    "                    img.verify()  # Raise error if corrupt\n",
    "            except Exception as e:\n",
    "                print(f\"Corrupt image: {file} in {subdir} – {e}\")\n",
    "\n",
    "check_images(\"D:/PC FILES/image_dataset\")  # or full path if needed\n"
   ]
  },
  {
   "cell_type": "code",
   "execution_count": 20,
   "id": "41541ed5-ce4d-4cbe-abc3-46f3ec96b94c",
   "metadata": {},
   "outputs": [],
   "source": [
    "transform = transforms.Compose([\n",
    "    transforms.Resize((224, 224)),\n",
    "    transforms.RandomHorizontalFlip(),\n",
    "    transforms.ToTensor(),\n",
    "    transforms.Normalize([0.485, 0.456, 0.406],\n",
    "                         [0.229, 0.224, 0.225])\n",
    "])"
   ]
  },
  {
   "cell_type": "code",
   "execution_count": 21,
   "id": "745b517a-bb75-45d5-a288-1dabbfe23066",
   "metadata": {},
   "outputs": [
    {
     "name": "stdout",
     "output_type": "stream",
     "text": [
      "abnormal: 3494 images\n",
      "normal: 388 images\n"
     ]
    }
   ],
   "source": [
    "from torchvision import datasets\n",
    "from collections import Counter\n",
    "import os\n",
    "\n",
    "#base_dir = \"dataset\"  # or data_dir = \"dataset\", use consistently\n",
    "\n",
    "train_ds = datasets.ImageFolder(os.path.join(base_dir, \"train\"), transform=transform)\n",
    "\n",
    "labels = [label for _, label in train_ds]\n",
    "label_counts = Counter(labels)\n",
    "\n",
    "class_names = train_ds.classes\n",
    "for i, count in label_counts.items():\n",
    "    print(f\"{class_names[i]}: {count} images\")\n"
   ]
  },
  {
   "cell_type": "code",
   "execution_count": 9,
   "id": "bb262f40-2bdd-43c2-b124-537c8d402b6a",
   "metadata": {},
   "outputs": [],
   "source": [
    "import os\n",
    "import torch\n",
    "import torch.nn as nn\n",
    "from torchvision import datasets, transforms, models\n",
    "from torch.utils.data import DataLoader\n",
    "from sklearn.metrics import classification_report, confusion_matrix"
   ]
  },
  {
   "cell_type": "code",
   "execution_count": 10,
   "id": "5660fda8-0688-4fa5-9e3a-ed75055a363f",
   "metadata": {},
   "outputs": [],
   "source": [
    "# 1. Device\n",
    "device = torch.device(\"cuda\" if torch.cuda.is_available() else \"cpu\")"
   ]
  },
  {
   "cell_type": "code",
   "execution_count": 11,
   "id": "06d5085b-1ea2-437e-8132-9ec6a8288620",
   "metadata": {},
   "outputs": [],
   "source": [
    "# 2. Transforms with augmentation for train, simpler for val/test\n",
    "train_transform = transforms.Compose([\n",
    "    transforms.Resize((224, 224)),\n",
    "    transforms.RandomHorizontalFlip(),\n",
    "    transforms.RandomRotation(10),\n",
    "    transforms.ColorJitter(brightness=0.1, contrast=0.1),\n",
    "    transforms.ToTensor(),\n",
    "    transforms.Normalize([0.485, 0.456, 0.406],\n",
    "                         [0.229, 0.224, 0.225])\n",
    "])\n",
    "\n",
    "val_test_transform = transforms.Compose([\n",
    "    transforms.Resize((224, 224)),\n",
    "    transforms.ToTensor(),\n",
    "    transforms.Normalize([0.485, 0.456, 0.406],\n",
    "                         [0.229, 0.224, 0.225])\n",
    "])"
   ]
  },
  {
   "cell_type": "code",
   "execution_count": 20,
   "id": "f65af93e-a0af-4abd-8328-c21138facba7",
   "metadata": {},
   "outputs": [],
   "source": [
    "# 3. Dataset and DataLoader\n",
    "base_dir = \"D:/PC FILES/image_dataset\"\n",
    "\n",
    "train_ds = datasets.ImageFolder(os.path.join(base_dir, \"train\"), transform=train_transform)\n",
    "val_ds = datasets.ImageFolder(os.path.join(base_dir, \"val\"), transform=val_test_transform)\n",
    "test_ds = datasets.ImageFolder(os.path.join(base_dir, \"test\"), transform=val_test_transform)\n",
    "\n",
    "batch_size = 32\n",
    "\n",
    "train_loader = DataLoader(train_ds, batch_size=batch_size, shuffle=True)\n",
    "val_loader = DataLoader(val_ds, batch_size=batch_size)\n",
    "test_loader = DataLoader(test_ds, batch_size=batch_size)"
   ]
  },
  {
   "cell_type": "code",
   "execution_count": 21,
   "id": "b5704e64-9360-47e9-afec-e321f6424020",
   "metadata": {},
   "outputs": [],
   "source": [
    "# 4. Calculate class weights for weighted loss\n",
    "from collections import Counter\n",
    "\n",
    "label_counts = Counter([label for _, label in train_ds])\n",
    "weight_normal = 1.0 / label_counts[train_ds.class_to_idx['normal']]\n",
    "weight_abnormal = 1.0 / label_counts[train_ds.class_to_idx['abnormal']]\n",
    "class_weights = torch.FloatTensor([weight_normal, weight_abnormal]).to(device)\n",
    "\n",
    "criterion = nn.CrossEntropyLoss(weight=class_weights)"
   ]
  },
  {
   "cell_type": "code",
   "execution_count": 22,
   "id": "55c75e9e-ef04-4a7f-9b7e-f4ef25935635",
   "metadata": {},
   "outputs": [
    {
     "name": "stderr",
     "output_type": "stream",
     "text": [
      "C:\\Users\\HP\\AppData\\Local\\Programs\\Python\\Python312\\Lib\\site-packages\\torchvision\\models\\_utils.py:208: UserWarning: The parameter 'pretrained' is deprecated since 0.13 and may be removed in the future, please use 'weights' instead.\n",
      "  warnings.warn(\n",
      "C:\\Users\\HP\\AppData\\Local\\Programs\\Python\\Python312\\Lib\\site-packages\\torchvision\\models\\_utils.py:223: UserWarning: Arguments other than a weight enum or `None` for 'weights' are deprecated since 0.13 and may be removed in the future. The current behavior is equivalent to passing `weights=ResNet50_Weights.IMAGENET1K_V1`. You can also use `weights=ResNet50_Weights.DEFAULT` to get the most up-to-date weights.\n",
      "  warnings.warn(msg)\n"
     ]
    }
   ],
   "source": [
    "# 5. Load pretrained ResNet50, freeze layers, modify FC\n",
    "model = models.resnet50(pretrained=True)\n",
    "for param in model.parameters():\n",
    "    param.requires_grad = False\n",
    "\n",
    "model.fc = nn.Sequential(\n",
    "    nn.Linear(model.fc.in_features, 256),\n",
    "    nn.ReLU(),\n",
    "    nn.Dropout(0.4),\n",
    "    nn.Linear(256, 2)\n",
    ")\n",
    "model = model.to(device)\n",
    "\n",
    "optimizer = torch.optim.Adam(model.fc.parameters(), lr=1e-4)"
   ]
  },
  {
   "cell_type": "code",
   "execution_count": 23,
   "id": "3b91d767-f169-414f-b1bd-83298e231140",
   "metadata": {},
   "outputs": [],
   "source": [
    "# 6. Training function\n",
    "def train(model, train_loader, val_loader, epochs=10):\n",
    "    for epoch in range(epochs):\n",
    "        model.train()\n",
    "        running_loss = 0.0\n",
    "        for inputs, labels in train_loader:\n",
    "            inputs, labels = inputs.to(device), labels.to(device)\n",
    "\n",
    "            optimizer.zero_grad()\n",
    "            outputs = model(inputs)\n",
    "            loss = criterion(outputs, labels)\n",
    "            loss.backward()\n",
    "            optimizer.step()\n",
    "\n",
    "            running_loss += loss.item()\n",
    "\n",
    "        avg_loss = running_loss / len(train_loader)\n",
    "        print(f\"Epoch {epoch+1}/{epochs} — Training loss: {avg_loss:.4f}\")\n",
    "\n",
    "        evaluate(model, val_loader, \"Validation\")"
   ]
  },
  {
   "cell_type": "code",
   "execution_count": 24,
   "id": "d7cd6009-cf4e-4af1-ad96-fd583d2bc8d4",
   "metadata": {},
   "outputs": [],
   "source": [
    "# 7. Evaluation function\n",
    "def evaluate(model, loader, name=\"Test\"):\n",
    "    model.eval()\n",
    "    all_preds = []\n",
    "    all_labels = []\n",
    "\n",
    "    with torch.no_grad():\n",
    "        for inputs, labels in loader:\n",
    "            inputs = inputs.to(device)\n",
    "            outputs = model(inputs)\n",
    "            _, preds = torch.max(outputs, 1)\n",
    "            all_preds.extend(preds.cpu().numpy())\n",
    "            all_labels.extend(labels.numpy())\n",
    "\n",
    "    print(f\"\\n{name} Classification Report:\")\n",
    "    print(classification_report(all_labels, all_preds, target_names=train_ds.classes))\n",
    "    print(f\"{name} Confusion Matrix:\")\n",
    "    print(confusion_matrix(all_labels, all_preds))"
   ]
  },
  {
   "cell_type": "code",
   "execution_count": null,
   "id": "9b6aeaae-cdf7-410f-997b-e8e1f98ee5f5",
   "metadata": {},
   "outputs": [
    {
     "name": "stdout",
     "output_type": "stream",
     "text": [
      "Epoch 1/10 — Training loss: 0.0858\n",
      "\n",
      "Validation Classification Report:\n",
      "              precision    recall  f1-score   support\n",
      "\n",
      "    abnormal       0.74      1.00      0.85       389\n",
      "      normal       0.00      0.00      0.00       135\n",
      "\n",
      "    accuracy                           0.74       524\n",
      "   macro avg       0.37      0.50      0.43       524\n",
      "weighted avg       0.55      0.74      0.63       524\n",
      "\n",
      "Validation Confusion Matrix:\n",
      "[[389   0]\n",
      " [135   0]]\n"
     ]
    },
    {
     "name": "stderr",
     "output_type": "stream",
     "text": [
      "C:\\Users\\HP\\AppData\\Local\\Programs\\Python\\Python312\\Lib\\site-packages\\sklearn\\metrics\\_classification.py:1706: UndefinedMetricWarning: Precision is ill-defined and being set to 0.0 in labels with no predicted samples. Use `zero_division` parameter to control this behavior.\n",
      "  _warn_prf(average, modifier, f\"{metric.capitalize()} is\", result.shape[0])\n",
      "C:\\Users\\HP\\AppData\\Local\\Programs\\Python\\Python312\\Lib\\site-packages\\sklearn\\metrics\\_classification.py:1706: UndefinedMetricWarning: Precision is ill-defined and being set to 0.0 in labels with no predicted samples. Use `zero_division` parameter to control this behavior.\n",
      "  _warn_prf(average, modifier, f\"{metric.capitalize()} is\", result.shape[0])\n",
      "C:\\Users\\HP\\AppData\\Local\\Programs\\Python\\Python312\\Lib\\site-packages\\sklearn\\metrics\\_classification.py:1706: UndefinedMetricWarning: Precision is ill-defined and being set to 0.0 in labels with no predicted samples. Use `zero_division` parameter to control this behavior.\n",
      "  _warn_prf(average, modifier, f\"{metric.capitalize()} is\", result.shape[0])\n"
     ]
    },
    {
     "name": "stdout",
     "output_type": "stream",
     "text": [
      "Epoch 2/10 — Training loss: 0.0642\n",
      "\n",
      "Validation Classification Report:\n",
      "              precision    recall  f1-score   support\n",
      "\n",
      "    abnormal       0.74      1.00      0.85       389\n",
      "      normal       0.00      0.00      0.00       135\n",
      "\n",
      "    accuracy                           0.74       524\n",
      "   macro avg       0.37      0.50      0.43       524\n",
      "weighted avg       0.55      0.74      0.63       524\n",
      "\n",
      "Validation Confusion Matrix:\n",
      "[[389   0]\n",
      " [135   0]]\n"
     ]
    },
    {
     "name": "stderr",
     "output_type": "stream",
     "text": [
      "C:\\Users\\HP\\AppData\\Local\\Programs\\Python\\Python312\\Lib\\site-packages\\sklearn\\metrics\\_classification.py:1706: UndefinedMetricWarning: Precision is ill-defined and being set to 0.0 in labels with no predicted samples. Use `zero_division` parameter to control this behavior.\n",
      "  _warn_prf(average, modifier, f\"{metric.capitalize()} is\", result.shape[0])\n",
      "C:\\Users\\HP\\AppData\\Local\\Programs\\Python\\Python312\\Lib\\site-packages\\sklearn\\metrics\\_classification.py:1706: UndefinedMetricWarning: Precision is ill-defined and being set to 0.0 in labels with no predicted samples. Use `zero_division` parameter to control this behavior.\n",
      "  _warn_prf(average, modifier, f\"{metric.capitalize()} is\", result.shape[0])\n",
      "C:\\Users\\HP\\AppData\\Local\\Programs\\Python\\Python312\\Lib\\site-packages\\sklearn\\metrics\\_classification.py:1706: UndefinedMetricWarning: Precision is ill-defined and being set to 0.0 in labels with no predicted samples. Use `zero_division` parameter to control this behavior.\n",
      "  _warn_prf(average, modifier, f\"{metric.capitalize()} is\", result.shape[0])\n"
     ]
    },
    {
     "name": "stdout",
     "output_type": "stream",
     "text": [
      "Epoch 3/10 — Training loss: 0.0565\n",
      "\n",
      "Validation Classification Report:\n",
      "              precision    recall  f1-score   support\n",
      "\n",
      "    abnormal       0.74      1.00      0.85       389\n",
      "      normal       0.00      0.00      0.00       135\n",
      "\n",
      "    accuracy                           0.74       524\n",
      "   macro avg       0.37      0.50      0.43       524\n",
      "weighted avg       0.55      0.74      0.63       524\n",
      "\n",
      "Validation Confusion Matrix:\n",
      "[[389   0]\n",
      " [135   0]]\n"
     ]
    },
    {
     "name": "stderr",
     "output_type": "stream",
     "text": [
      "C:\\Users\\HP\\AppData\\Local\\Programs\\Python\\Python312\\Lib\\site-packages\\sklearn\\metrics\\_classification.py:1706: UndefinedMetricWarning: Precision is ill-defined and being set to 0.0 in labels with no predicted samples. Use `zero_division` parameter to control this behavior.\n",
      "  _warn_prf(average, modifier, f\"{metric.capitalize()} is\", result.shape[0])\n",
      "C:\\Users\\HP\\AppData\\Local\\Programs\\Python\\Python312\\Lib\\site-packages\\sklearn\\metrics\\_classification.py:1706: UndefinedMetricWarning: Precision is ill-defined and being set to 0.0 in labels with no predicted samples. Use `zero_division` parameter to control this behavior.\n",
      "  _warn_prf(average, modifier, f\"{metric.capitalize()} is\", result.shape[0])\n",
      "C:\\Users\\HP\\AppData\\Local\\Programs\\Python\\Python312\\Lib\\site-packages\\sklearn\\metrics\\_classification.py:1706: UndefinedMetricWarning: Precision is ill-defined and being set to 0.0 in labels with no predicted samples. Use `zero_division` parameter to control this behavior.\n",
      "  _warn_prf(average, modifier, f\"{metric.capitalize()} is\", result.shape[0])\n"
     ]
    },
    {
     "name": "stdout",
     "output_type": "stream",
     "text": [
      "Epoch 4/10 — Training loss: 0.0510\n",
      "\n",
      "Validation Classification Report:\n",
      "              precision    recall  f1-score   support\n",
      "\n",
      "    abnormal       0.74      1.00      0.85       389\n",
      "      normal       0.00      0.00      0.00       135\n",
      "\n",
      "    accuracy                           0.74       524\n",
      "   macro avg       0.37      0.50      0.43       524\n",
      "weighted avg       0.55      0.74      0.63       524\n",
      "\n",
      "Validation Confusion Matrix:\n",
      "[[389   0]\n",
      " [135   0]]\n"
     ]
    },
    {
     "name": "stderr",
     "output_type": "stream",
     "text": [
      "C:\\Users\\HP\\AppData\\Local\\Programs\\Python\\Python312\\Lib\\site-packages\\sklearn\\metrics\\_classification.py:1706: UndefinedMetricWarning: Precision is ill-defined and being set to 0.0 in labels with no predicted samples. Use `zero_division` parameter to control this behavior.\n",
      "  _warn_prf(average, modifier, f\"{metric.capitalize()} is\", result.shape[0])\n",
      "C:\\Users\\HP\\AppData\\Local\\Programs\\Python\\Python312\\Lib\\site-packages\\sklearn\\metrics\\_classification.py:1706: UndefinedMetricWarning: Precision is ill-defined and being set to 0.0 in labels with no predicted samples. Use `zero_division` parameter to control this behavior.\n",
      "  _warn_prf(average, modifier, f\"{metric.capitalize()} is\", result.shape[0])\n",
      "C:\\Users\\HP\\AppData\\Local\\Programs\\Python\\Python312\\Lib\\site-packages\\sklearn\\metrics\\_classification.py:1706: UndefinedMetricWarning: Precision is ill-defined and being set to 0.0 in labels with no predicted samples. Use `zero_division` parameter to control this behavior.\n",
      "  _warn_prf(average, modifier, f\"{metric.capitalize()} is\", result.shape[0])\n"
     ]
    }
   ],
   "source": [
    "# 8. Run training and final test evaluation\n",
    "train(model, train_loader, val_loader, epochs=10)\n",
    "evaluate(model, test_loader, \"Test\")"
   ]
  },
  {
   "cell_type": "code",
   "execution_count": null,
   "id": "a9b28d2c-6e4a-453c-a83d-6948f9d7adbe",
   "metadata": {},
   "outputs": [],
   "source": []
  }
 ],
 "metadata": {
  "kernelspec": {
   "display_name": "Python 3 (ipykernel)",
   "language": "python",
   "name": "python3"
  },
  "language_info": {
   "codemirror_mode": {
    "name": "ipython",
    "version": 3
   },
   "file_extension": ".py",
   "mimetype": "text/x-python",
   "name": "python",
   "nbconvert_exporter": "python",
   "pygments_lexer": "ipython3",
   "version": "3.12.4"
  }
 },
 "nbformat": 4,
 "nbformat_minor": 5
}
